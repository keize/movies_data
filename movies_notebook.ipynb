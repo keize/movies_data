{
 "cells": [
  {
   "cell_type": "code",
   "execution_count": null,
   "id": "20e850f0-9577-4ed1-8807-e5d777830e1c",
   "metadata": {
    "tags": []
   },
   "outputs": [],
   "source": [
    "import pandas as pd\n",
    "import matplotlib.pyplot as plt\n",
    "%matplotlib inline"
   ]
  },
  {
   "cell_type": "code",
   "execution_count": null,
   "id": "90fbae90-d9e4-43e5-b0c8-5ea7089e0993",
   "metadata": {
    "tags": []
   },
   "outputs": [],
   "source": [
    "df = pd.read_csv('movies.csv')"
   ]
  },
  {
   "attachments": {},
   "cell_type": "markdown",
   "id": "7c6973a3-f904-4c78-bca2-7fd98cfb2964",
   "metadata": {
    "tags": []
   },
   "source": [
    "Look at this dataframe using descriptional commands:"
   ]
  },
  {
   "cell_type": "code",
   "execution_count": null,
   "id": "4024f5b5-8a11-4d28-9f45-32259a46c602",
   "metadata": {
    "tags": []
   },
   "outputs": [],
   "source": [
    "df.info()"
   ]
  },
  {
   "cell_type": "code",
   "execution_count": null,
   "id": "0b49a05e-f17f-4c2b-afa9-c35e1516cb92",
   "metadata": {
    "tags": []
   },
   "outputs": [],
   "source": [
    "df.columns"
   ]
  },
  {
   "cell_type": "code",
   "execution_count": null,
   "id": "ddd5528a-695c-4094-8af2-9e64074bf1af",
   "metadata": {
    "tags": []
   },
   "outputs": [],
   "source": [
    "df.value_counts()"
   ]
  },
  {
   "cell_type": "code",
   "execution_count": null,
   "id": "1debceb2-3a07-4ac1-9f09-aa0119823032",
   "metadata": {
    "tags": []
   },
   "outputs": [],
   "source": [
    "df.fillna(0).isna().sum()"
   ]
  },
  {
   "cell_type": "code",
   "execution_count": null,
   "id": "6c73ade4-daac-4577-9d2e-9837fd96466c",
   "metadata": {
    "tags": []
   },
   "outputs": [],
   "source": [
    "df.describe()"
   ]
  },
  {
   "cell_type": "code",
   "execution_count": null,
   "id": "9513cbc5-0311-4e15-a4ac-2b7771501550",
   "metadata": {
    "tags": []
   },
   "outputs": [],
   "source": [
    "df.index"
   ]
  },
  {
   "cell_type": "code",
   "execution_count": null,
   "id": "53b1a428-8305-4fc3-bc5c-fe0e6c5902b9",
   "metadata": {
    "tags": []
   },
   "outputs": [],
   "source": [
    "df.shape"
   ]
  },
  {
   "cell_type": "code",
   "execution_count": null,
   "id": "e3135e7b-4f9b-4d64-a150-0b474dbabb6c",
   "metadata": {
    "tags": []
   },
   "outputs": [],
   "source": [
    "df.head()"
   ]
  },
  {
   "cell_type": "code",
   "execution_count": null,
   "id": "a7a7f318",
   "metadata": {},
   "outputs": [],
   "source": [
    "df.tail()"
   ]
  },
  {
   "attachments": {},
   "cell_type": "markdown",
   "id": "dd53fb71",
   "metadata": {},
   "source": [
    "We see that we have a dataset:\n",
    "- 8 columns\n",
    "- 77 rows\n",
    "- no empty values"
   ]
  },
  {
   "cell_type": "markdown",
   "id": "dd28c53c-6cd4-4c31-a59e-03d90ef27daa",
   "metadata": {},
   "source": [
    "4. How many movies are in the data set?"
   ]
  },
  {
   "cell_type": "code",
   "execution_count": null,
   "id": "7bec0481-74f2-4155-86de-9e623db50d9f",
   "metadata": {
    "tags": []
   },
   "outputs": [],
   "source": [
    "films_count = df['Film'].count()\n",
    "films_uniq_count = df['Film'].nunique()\n",
    "\n",
    "print(films_count)\n",
    "print(films_uniq_count)"
   ]
  },
  {
   "attachments": {},
   "cell_type": "markdown",
   "id": "953b5954",
   "metadata": {},
   "source": [
    "We see that the dataset has duplicates because count of films is 77, but inique is 75 :"
   ]
  },
  {
   "cell_type": "code",
   "execution_count": null,
   "id": "c93f939e",
   "metadata": {},
   "outputs": [],
   "source": [
    "duplicates = df[df.duplicated(['Film'], keep=False)]\n",
    "print(duplicates)"
   ]
  },
  {
   "attachments": {},
   "cell_type": "markdown",
   "id": "793cf32a",
   "metadata": {},
   "source": [
    "'Mamma Mia!' and 'Gnomeo and Juliet' - were duplicated in dataset"
   ]
  },
  {
   "cell_type": "markdown",
   "id": "373a49f2-8357-4ef5-a7b2-cae9aa36f1eb",
   "metadata": {},
   "source": [
    "5. How many films are in the dataset for each year?"
   ]
  },
  {
   "cell_type": "code",
   "execution_count": null,
   "id": "59269c3e-5743-4410-ac82-fb306ed3a901",
   "metadata": {
    "tags": []
   },
   "outputs": [],
   "source": [
    "films_count_by_year = df['Year'].value_counts()\n",
    "\n",
    "labels = films_count_by_year.index.tolist()\n",
    "plt.bar(labels, films_count_by_year)\n",
    "\n",
    "print(films_count_by_year)\n",
    "plt.show()"
   ]
  },
  {
   "attachments": {},
   "cell_type": "markdown",
   "id": "170683a8-b851-4686-b031-bd9f68f47621",
   "metadata": {},
   "source": [
    "6. Show details of the least and most profitable films in the dataset."
   ]
  },
  {
   "cell_type": "code",
   "execution_count": null,
   "id": "e2964ca0-280d-45f6-a431-2030628f4e17",
   "metadata": {
    "tags": []
   },
   "outputs": [],
   "source": [
    "max_rating_index = df['Worldwide Gross'].str.replace('$', '').astype(float).idxmax()\n",
    "max_gross = df.loc[max_rating_index, 'Worldwide Gross']\n",
    "max_rating_film = df.loc[max_rating_index, 'Film']\n",
    "\n",
    "print(\"The most profitable film is {} with gross {}\".format(max_rating_film, max_gross))\n",
    "\n",
    "min_rating_index = df['Worldwide Gross'].str.replace('$', '').astype(float).idxmin()\n",
    "min_gross = df.loc[min_rating_index, 'Worldwide Gross']\n",
    "min_rating_film = df.loc[min_rating_index, 'Film']\n",
    "\n",
    "print(\"The least profitable film is {} with gross {}\".format(min_rating_film, min_gross))\n"
   ]
  },
  {
   "attachments": {},
   "cell_type": "markdown",
   "id": "e4939dbc-3d5f-4243-bd8b-5f18d77f1ef2",
   "metadata": {},
   "source": [
    "7. The meaning of \"Genre\" seems inconsistent at times; \n",
    "try to find these inconsistencies and correct them."
   ]
  },
  {
   "cell_type": "code",
   "execution_count": null,
   "id": "589af9a6-c58e-4745-83aa-2ec7e18925cd",
   "metadata": {
    "tags": []
   },
   "outputs": [],
   "source": [
    "df_genre = df['Genre'].unique()\n",
    "print(df_genre)"
   ]
  },
  {
   "attachments": {},
   "cell_type": "markdown",
   "id": "0c80faae",
   "metadata": {},
   "source": [
    "Here we see heterogeneity and bring them to common values to clarify the data\n",
    "['Romance' 'Comedy' 'Drama' 'Animation' 'Fantasy' 'Romence' 'Comdy'\n",
    " 'Action' 'romance' 'comedy']"
   ]
  },
  {
   "cell_type": "code",
   "execution_count": null,
   "id": "b1c9a31d-9728-4358-9bfd-cb3fd47c527c",
   "metadata": {
    "tags": []
   },
   "outputs": [],
   "source": [
    "df['Genre'] = df['Genre'].replace({'comedy': 'Comedy', 'Comdy': 'Comedy', 'romance': 'Romance', 'Romence': 'Romance'})\n",
    "df_genre = df['Genre'].unique()\n",
    "print(df_genre)"
   ]
  },
  {
   "cell_type": "markdown",
   "id": "c72b5f7c-fc87-46be-9198-b1e4fb59e6b7",
   "metadata": {},
   "source": [
    "8. Save (to a new CSV file) the top 10 comedies by viewership;\n",
    "show only movie title, year and studio"
   ]
  },
  {
   "cell_type": "code",
   "execution_count": null,
   "id": "3e5ff913-ce61-40c8-a4da-b882fc103b3c",
   "metadata": {
    "tags": []
   },
   "outputs": [],
   "source": [
    "df_comedy = df[df['Genre'] == 'Comedy'].head(n=10)\n",
    "top_10_comedies = df_comedy.sort_values('Audience score %', ascending=False).head(10)\n",
    "print(top_10_comedies)"
   ]
  },
  {
   "cell_type": "code",
   "execution_count": null,
   "id": "c9382fc5-c4b2-4fe7-9cbf-94cce672efc9",
   "metadata": {
    "tags": []
   },
   "outputs": [],
   "source": [
    "print(top_10_comedies.loc[:, [\"Film\", \"Year\", \"Lead Studio\"]])"
   ]
  },
  {
   "cell_type": "code",
   "execution_count": null,
   "id": "4165909e-f9a4-4889-966f-a2e80d523aa0",
   "metadata": {
    "tags": []
   },
   "outputs": [],
   "source": [
    "to_save_top = top_10_comedies.loc[:, [\"Film\", \"Year\", \"Lead Studio\"]]\n",
    "to_save_top.to_csv('top_10_comedies.csv', index=False)\n"
   ]
  }
 ],
 "metadata": {
  "kernelspec": {
   "display_name": "Python 3 (ipykernel)",
   "language": "python",
   "name": "python3"
  },
  "language_info": {
   "codemirror_mode": {
    "name": "ipython",
    "version": 3
   },
   "file_extension": ".py",
   "mimetype": "text/x-python",
   "name": "python",
   "nbconvert_exporter": "python",
   "pygments_lexer": "ipython3",
   "version": "3.11.3"
  }
 },
 "nbformat": 4,
 "nbformat_minor": 5
}
