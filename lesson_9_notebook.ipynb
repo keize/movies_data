{
 "cells": [
  {
   "cell_type": "code",
   "execution_count": null,
   "id": "0e162fbc-78a2-4c3f-a698-8687ffda0cf6",
   "metadata": {
    "tags": []
   },
   "outputs": [],
   "source": [
    "import pandas as pd \n",
    "import numpy as np \n",
    "import seaborn as sns\n",
    "import matplotlib.pyplot as plt\n",
    "%matplotlib inline\n"
   ]
  },
  {
   "cell_type": "code",
   "execution_count": null,
   "id": "32ac5180-6694-470d-940f-948438fa4246",
   "metadata": {
    "tags": []
   },
   "outputs": [],
   "source": [
    "df = pd.read_csv('diamonds.csv')\n",
    "df.head(n = 10) \n"
   ]
  },
  {
   "cell_type": "code",
   "execution_count": null,
   "id": "aeb15b58-df4c-4efa-a7c6-e32f89ca322b",
   "metadata": {
    "tags": []
   },
   "outputs": [],
   "source": [
    "df.info()"
   ]
  },
  {
   "cell_type": "code",
   "execution_count": null,
   "id": "7cb6ada2-1987-4e44-8846-d983b8871884",
   "metadata": {
    "tags": []
   },
   "outputs": [],
   "source": [
    "df.columns "
   ]
  },
  {
   "cell_type": "code",
   "execution_count": null,
   "id": "29a16d75-ce33-446d-afce-ceec5f9c4545",
   "metadata": {
    "tags": []
   },
   "outputs": [],
   "source": [
    "df.index"
   ]
  },
  {
   "cell_type": "code",
   "execution_count": null,
   "id": "09c6a741-db23-4c2d-a087-cb2ab548d5dc",
   "metadata": {
    "tags": []
   },
   "outputs": [],
   "source": [
    "df.shape"
   ]
  },
  {
   "cell_type": "code",
   "execution_count": null,
   "id": "db562649-27e8-4e0f-9bfa-8925bd3440ef",
   "metadata": {
    "tags": []
   },
   "outputs": [],
   "source": [
    "df.describe()"
   ]
  },
  {
   "cell_type": "code",
   "execution_count": null,
   "id": "7867661c-5621-4778-9383-5d92d7510324",
   "metadata": {
    "tags": []
   },
   "outputs": [],
   "source": [
    "df.tail()"
   ]
  },
  {
   "cell_type": "code",
   "execution_count": null,
   "id": "c38daca7-96db-42ca-94f1-cc10b61aa86b",
   "metadata": {
    "tags": []
   },
   "outputs": [],
   "source": [
    "df.info()"
   ]
  },
  {
   "cell_type": "code",
   "execution_count": null,
   "id": "1484bead-a62d-4733-9253-4331691ccf3f",
   "metadata": {
    "tags": []
   },
   "outputs": [],
   "source": [
    "#1. Яке середнє значення ціни всіх алмазів у датасеті? зберегти в змінну avg_df та округлити до другого значення \n",
    "\n",
    "avg_df = df['price'].mean().round(2)\n",
    "print(avg_df)"
   ]
  },
  {
   "cell_type": "code",
   "execution_count": null,
   "id": "10c2921b-ca95-418a-9701-c1cc894c58d2",
   "metadata": {
    "tags": []
   },
   "outputs": [],
   "source": [
    "#2. Яка середня кількість каратів у алмазів кожної якості огранювання?\n",
    "\n",
    "quality = df.groupby('cut')['carat'].mean()\n",
    "print(quality)\n"
   ]
  },
  {
   "cell_type": "code",
   "execution_count": null,
   "id": "5dc86dda-a63d-47a7-82fc-bd29b2a4e687",
   "metadata": {
    "tags": []
   },
   "outputs": [],
   "source": [
    "#3. Який колір алмазу найпоширеніший у датасеті?\n",
    "\n",
    "color = df['color'].value_counts().idxmax()\n",
    "color_count = df['color'].value_counts().max()\n",
    "print(color)\n",
    "print(color_count)\n"
   ]
  },
  {
   "cell_type": "code",
   "execution_count": null,
   "id": "59365318-07ca-41dc-8782-3728a339a629",
   "metadata": {
    "tags": []
   },
   "outputs": [],
   "source": [
    "#4. Який розподіл кількості алмазів за кожним кольором? Використе графік для пояснення\n",
    "\n",
    "df_size = df.shape[0]\n",
    "res = df['color'].value_counts()\n",
    "\n",
    "plt.bar(res.index, res.values)\n",
    "plt.show()\n"
   ]
  },
  {
   "cell_type": "code",
   "execution_count": null,
   "id": "50b76d1a-da1e-4412-8d4a-aac29830936e",
   "metadata": {
    "tags": []
   },
   "outputs": [],
   "source": [
    "#5. Який відсоток алмазів у датасеті має якість ограновування \"Fair\"?\n",
    "\n",
    "df_size = df.shape[0]\n",
    "fair_cut = df['cut'].value_counts()['Fair']\n",
    "fair_cut_perc = (fair_cut / df_size) * 100\n",
    "\n",
    "plt.bar(['Fair', 'Other'], [fair_cut, df_size - fair_cut], color=['blue', 'yellow'])\n",
    "plt.title('Fair cut')\n",
    "plt.ylabel('Number of diamonds')\n",
    "plt.show()\n",
    "\n",
    "print(fair_cut_perc.round(2))\n",
    "\n"
   ]
  },
  {
   "cell_type": "code",
   "execution_count": null,
   "id": "c2b7929a-b4f6-466d-bfa5-b9b850a0bc71",
   "metadata": {
    "tags": []
   },
   "outputs": [],
   "source": [
    "# 6. Який відсоток алмазів у датасеті є ідеально огранованими?\n",
    "\n",
    "cut_ideal = df['cut'].value_counts()['Ideal']\n",
    "cut = cut_ideal / df_size * 100\n",
    "\n",
    "plt.bar(['Ideal', 'Other'], [cut_ideal, df_size - cut_ideal], color=['blue', 'yellow'])\n",
    "plt.title('Ideal cut')\n",
    "plt.show()\n",
    "\n",
    "print(cut.round(2))"
   ]
  },
  {
   "cell_type": "code",
   "execution_count": null,
   "id": "f577590e-298e-4a5b-b6dd-90eb6fa96252",
   "metadata": {
    "tags": []
   },
   "outputs": [],
   "source": [
    "#7. Яка середня кількість алмазів знаходиться в категорії \"Premium\" у кожному кольорі?\n",
    "\n",
    "premium = df[df['cut'] == 'Premium']\n",
    "res = premium.groupby('color')['carat'].mean()\n",
    "\n",
    "plt.bar(res.index, res.values)\n",
    "plt.title('Average count of Premium cut')\n",
    "plt.xlabel('Color')\n",
    "plt.ylabel('Carat')\n",
    "print(res) \n",
    "\n"
   ]
  }
 ],
 "metadata": {
  "kernelspec": {
   "display_name": "Python 3 (ipykernel)",
   "language": "python",
   "name": "python3"
  },
  "language_info": {
   "codemirror_mode": {
    "name": "ipython",
    "version": 3
   },
   "file_extension": ".py",
   "mimetype": "text/x-python",
   "name": "python",
   "nbconvert_exporter": "python",
   "pygments_lexer": "ipython3",
   "version": "3.11.3"
  }
 },
 "nbformat": 4,
 "nbformat_minor": 5
}
